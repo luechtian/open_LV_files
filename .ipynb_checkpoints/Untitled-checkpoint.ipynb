{
 "cells": [
  {
   "cell_type": "code",
   "execution_count": 1,
   "metadata": {},
   "outputs": [],
   "source": [
    "import numpy\n",
    "import os\n",
    "\n",
    "####################################################################################################################\n",
    "\n",
    "def open_xyz(xyz_filename):\n",
    "    \"\"\"\n",
    "    This function opens an xyz file, seperates the coordinates and the symbols and recasts the coordinates as floats.\n",
    "    this function returns two thinds: symbols and coordinates\n",
    "    \"\"\"\n",
    "    xyz_file = numpy.genfromtxt(fname=xyz_filename, skip_header=2, dtype='unicode')\n",
    "    symbols = xyz_file[:, 0]\n",
    "    coordinates = xyz_file[:, 1:]\n",
    "    coordinates = coordinates.astype(numpy.float)\n",
    "    return symbols, coordinates\n",
    "\n",
    "####################################################################################################################\n",
    "\n",
    "def calculate_distance(atom1_coord, atom2_coord):\n",
    "    \"\"\"\n",
    "    Calculates the distance between two points in 3D space.\n",
    "    Inputs: coordinates of two atoms\n",
    "    Return: distance between the atoms\n",
    "    \"\"\"\n",
    "    x_distance = atom1_coord[0] - atom2_coord[0]\n",
    "    y_distance = atom1_coord[1] - atom2_coord[1]\n",
    "    z_distance = atom1_coord[2] - atom2_coord[2]\n",
    "    bond_length_12 = numpy.sqrt(x_distance ** 2 + y_distance ** 2 + z_distance ** 2)\n",
    "    return bond_length_12\n",
    "\n",
    "####################################################################################################################\n",
    "\n",
    "def bond_check(distance, min_val=0, max_val=1.5):\n",
    "    \"\"\"\n",
    "    Check if a distance is a bond based on a minimum and maximum bond length\n",
    "    \"\"\"\n",
    "    if distance>min_val and distance<=max_val:\n",
    "        return True\n",
    "    else:\n",
    "        return False\n",
    "####################################################################################################################"
   ]
  },
  {
   "cell_type": "code",
   "execution_count": null,
   "metadata": {},
   "outputs": [],
   "source": []
  }
 ],
 "metadata": {
  "kernelspec": {
   "display_name": "Python 3",
   "language": "python",
   "name": "python3"
  },
  "language_info": {
   "codemirror_mode": {
    "name": "ipython",
    "version": 3
   },
   "file_extension": ".py",
   "mimetype": "text/x-python",
   "name": "python",
   "nbconvert_exporter": "python",
   "pygments_lexer": "ipython3",
   "version": "3.7.6"
  }
 },
 "nbformat": 4,
 "nbformat_minor": 4
}
