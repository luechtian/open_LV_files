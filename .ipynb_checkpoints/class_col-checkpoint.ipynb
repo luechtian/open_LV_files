{
 "cells": [
  {
   "cell_type": "code",
   "execution_count": 257,
   "metadata": {},
   "outputs": [],
   "source": [
    "import pandas as pd"
   ]
  },
  {
   "cell_type": "code",
   "execution_count": 135,
   "metadata": {},
   "outputs": [
    {
     "data": {
      "text/plain": [
       "'C:\\\\Users\\\\Christian'"
      ]
     },
     "execution_count": 135,
     "metadata": {},
     "output_type": "execute_result"
    }
   ],
   "source": [
    "pwd"
   ]
  },
  {
   "cell_type": "code",
   "execution_count": 159,
   "metadata": {},
   "outputs": [],
   "source": [
    "data = pandas.read_csv('desktop/table.csv')"
   ]
  },
  {
   "cell_type": "code",
   "execution_count": 160,
   "metadata": {},
   "outputs": [
    {
     "data": {
      "text/html": [
       "<div>\n",
       "<style scoped>\n",
       "    .dataframe tbody tr th:only-of-type {\n",
       "        vertical-align: middle;\n",
       "    }\n",
       "\n",
       "    .dataframe tbody tr th {\n",
       "        vertical-align: top;\n",
       "    }\n",
       "\n",
       "    .dataframe thead th {\n",
       "        text-align: right;\n",
       "    }\n",
       "</style>\n",
       "<table border=\"1\" class=\"dataframe\">\n",
       "  <thead>\n",
       "    <tr style=\"text-align: right;\">\n",
       "      <th></th>\n",
       "      <th>index</th>\n",
       "      <th>lipidspecies</th>\n",
       "      <th>Sample.1</th>\n",
       "      <th>Sample.2</th>\n",
       "      <th>Sample.3</th>\n",
       "      <th>Sample.4</th>\n",
       "    </tr>\n",
       "  </thead>\n",
       "  <tbody>\n",
       "    <tr>\n",
       "      <th>0</th>\n",
       "      <td>1</td>\n",
       "      <td>IS PC O-30:2</td>\n",
       "      <td>0.001694</td>\n",
       "      <td>0.000955</td>\n",
       "      <td>0.001629</td>\n",
       "      <td>0.002180</td>\n",
       "    </tr>\n",
       "    <tr>\n",
       "      <th>1</th>\n",
       "      <td>2</td>\n",
       "      <td>IS PC O-30:1</td>\n",
       "      <td>0.007901</td>\n",
       "      <td>0.005079</td>\n",
       "      <td>0.027494</td>\n",
       "      <td>0.048999</td>\n",
       "    </tr>\n",
       "    <tr>\n",
       "      <th>2</th>\n",
       "      <td>3</td>\n",
       "      <td>PC O-30:0</td>\n",
       "      <td>0.029490</td>\n",
       "      <td>0.021908</td>\n",
       "      <td>0.114220</td>\n",
       "      <td>0.178646</td>\n",
       "    </tr>\n",
       "    <tr>\n",
       "      <th>3</th>\n",
       "      <td>4</td>\n",
       "      <td>PC 30:2</td>\n",
       "      <td>0.006578</td>\n",
       "      <td>0.001636</td>\n",
       "      <td>0.003852</td>\n",
       "      <td>0.010691</td>\n",
       "    </tr>\n",
       "    <tr>\n",
       "      <th>4</th>\n",
       "      <td>5</td>\n",
       "      <td>PC 30:1</td>\n",
       "      <td>0.084977</td>\n",
       "      <td>0.045469</td>\n",
       "      <td>0.080405</td>\n",
       "      <td>0.151318</td>\n",
       "    </tr>\n",
       "  </tbody>\n",
       "</table>\n",
       "</div>"
      ],
      "text/plain": [
       "   index  lipidspecies  Sample.1  Sample.2  Sample.3  Sample.4\n",
       "0      1  IS PC O-30:2  0.001694  0.000955  0.001629  0.002180\n",
       "1      2  IS PC O-30:1  0.007901  0.005079  0.027494  0.048999\n",
       "2      3     PC O-30:0  0.029490  0.021908  0.114220  0.178646\n",
       "3      4       PC 30:2  0.006578  0.001636  0.003852  0.010691\n",
       "4      5       PC 30:1  0.084977  0.045469  0.080405  0.151318"
      ]
     },
     "execution_count": 160,
     "metadata": {},
     "output_type": "execute_result"
    }
   ],
   "source": [
    "data.head(5)"
   ]
  },
  {
   "cell_type": "code",
   "execution_count": 310,
   "metadata": {},
   "outputs": [
    {
     "data": {
      "text/html": [
       "<div>\n",
       "<style scoped>\n",
       "    .dataframe tbody tr th:only-of-type {\n",
       "        vertical-align: middle;\n",
       "    }\n",
       "\n",
       "    .dataframe tbody tr th {\n",
       "        vertical-align: top;\n",
       "    }\n",
       "\n",
       "    .dataframe thead th {\n",
       "        text-align: right;\n",
       "    }\n",
       "</style>\n",
       "<table border=\"1\" class=\"dataframe\">\n",
       "  <thead>\n",
       "    <tr style=\"text-align: right;\">\n",
       "      <th></th>\n",
       "      <th>index</th>\n",
       "      <th>lipidspecies</th>\n",
       "      <th>lipidclass</th>\n",
       "      <th>FA_sum</th>\n",
       "      <th>Sample.1</th>\n",
       "      <th>Sample.2</th>\n",
       "      <th>Sample.3</th>\n",
       "      <th>Sample.4</th>\n",
       "    </tr>\n",
       "  </thead>\n",
       "  <tbody>\n",
       "    <tr>\n",
       "      <th>0</th>\n",
       "      <td>1</td>\n",
       "      <td>IS PC O-30:2</td>\n",
       "      <td>PC</td>\n",
       "      <td>O-30:2</td>\n",
       "      <td>0.001694</td>\n",
       "      <td>0.000955</td>\n",
       "      <td>0.001629</td>\n",
       "      <td>0.002180</td>\n",
       "    </tr>\n",
       "    <tr>\n",
       "      <th>1</th>\n",
       "      <td>2</td>\n",
       "      <td>IS PC O-30:1</td>\n",
       "      <td>PC</td>\n",
       "      <td>O-30:1</td>\n",
       "      <td>0.007901</td>\n",
       "      <td>0.005079</td>\n",
       "      <td>0.027494</td>\n",
       "      <td>0.048999</td>\n",
       "    </tr>\n",
       "    <tr>\n",
       "      <th>2</th>\n",
       "      <td>3</td>\n",
       "      <td>PC O-30:0</td>\n",
       "      <td>PC</td>\n",
       "      <td>O-30:0</td>\n",
       "      <td>0.029490</td>\n",
       "      <td>0.021908</td>\n",
       "      <td>0.114220</td>\n",
       "      <td>0.178646</td>\n",
       "    </tr>\n",
       "    <tr>\n",
       "      <th>3</th>\n",
       "      <td>4</td>\n",
       "      <td>PC 30:2</td>\n",
       "      <td>PC</td>\n",
       "      <td>30:2</td>\n",
       "      <td>0.006578</td>\n",
       "      <td>0.001636</td>\n",
       "      <td>0.003852</td>\n",
       "      <td>0.010691</td>\n",
       "    </tr>\n",
       "    <tr>\n",
       "      <th>4</th>\n",
       "      <td>5</td>\n",
       "      <td>PC 30:1</td>\n",
       "      <td>PC</td>\n",
       "      <td>30:1</td>\n",
       "      <td>0.084977</td>\n",
       "      <td>0.045469</td>\n",
       "      <td>0.080405</td>\n",
       "      <td>0.151318</td>\n",
       "    </tr>\n",
       "  </tbody>\n",
       "</table>\n",
       "</div>"
      ],
      "text/plain": [
       "   index  lipidspecies lipidclass  FA_sum  Sample.1  Sample.2  Sample.3  \\\n",
       "0      1  IS PC O-30:2         PC  O-30:2  0.001694  0.000955  0.001629   \n",
       "1      2  IS PC O-30:1         PC  O-30:1  0.007901  0.005079  0.027494   \n",
       "2      3     PC O-30:0         PC  O-30:0  0.029490  0.021908  0.114220   \n",
       "3      4       PC 30:2         PC    30:2  0.006578  0.001636  0.003852   \n",
       "4      5       PC 30:1         PC    30:1  0.084977  0.045469  0.080405   \n",
       "\n",
       "   Sample.4  \n",
       "0  0.002180  \n",
       "1  0.048999  \n",
       "2  0.178646  \n",
       "3  0.010691  \n",
       "4  0.151318  "
      ]
     },
     "execution_count": 310,
     "metadata": {},
     "output_type": "execute_result"
    }
   ],
   "source": [
    "import pandas as pd\n",
    "\n",
    "data = pd.read_csv('desktop/table.csv')\n",
    "# Extract the lipidclass from string\n",
    "lipidclass_col = []\n",
    "for i in range(0, len(data)):\n",
    "    #Get rid off 'IS'-string\n",
    "    species = data.loc[i,'lipidspecies'].replace('IS ','')\n",
    "    #Get rid off 'fatty acid sum'-string\n",
    "    lipidclass_col.append(species.split())\n",
    "    \n",
    "data.insert(2, 'lipidclass', [ x[0] for x in lipidclass_col])\n",
    "data.insert(3, 'FA_sum', [ x[-1] for x in lipidclass_col])\n",
    "\n",
    "data.head(5)"
   ]
  },
  {
   "cell_type": "code",
   "execution_count": 245,
   "metadata": {},
   "outputs": [
    {
     "data": {
      "text/plain": [
       "array(['PC', 'SM', 'LPC', 'PE', 'PS', 'PI', 'PG', 'HexCer', 'Hex2Cer',\n",
       "       'Cer', 'PA', 'DAG', 'Chol', 'TAG'], dtype=object)"
      ]
     },
     "execution_count": 245,
     "metadata": {},
     "output_type": "execute_result"
    }
   ],
   "source": [
    "pd.Series(lipidclass_col).unique()"
   ]
  },
  {
   "cell_type": "code",
   "execution_count": 221,
   "metadata": {},
   "outputs": [
    {
     "data": {
      "text/plain": [
       "'PC'"
      ]
     },
     "execution_count": 221,
     "metadata": {},
     "output_type": "execute_result"
    }
   ],
   "source": [
    "#regex \n",
    "import regex as re\n",
    "###\n",
    "regexp_class = re.compile(r'^([a-zA-Z23-]{2,10})')\n",
    "regexp_subclass = re.compile(r'^([a-zA-Z23-]{2,10} (P-|O-))|^([a-zA-Z23-]{2,10})')\n",
    "re_match = regexp_class.match('PC O-30:0')\n",
    "re_match.group()\n",
    "###"
   ]
  },
  {
   "cell_type": "code",
   "execution_count": 225,
   "metadata": {},
   "outputs": [
    {
     "data": {
      "text/plain": [
       "['PC', 'PC', 'PC', 'PC', 'PC', 'PC', 'PC', 'PC', 'PC', 'PC']"
      ]
     },
     "execution_count": 225,
     "metadata": {},
     "output_type": "execute_result"
    }
   ],
   "source": [
    "import pandas as pd\n",
    "import regex as re\n",
    "\n",
    "data = pd.read_csv('desktop/table.csv')\n",
    "# Extract the lipidclass from string\n",
    "lipidclass_col = []\n",
    "for i in range(0, len(data)):\n",
    "    #Get rid off 'IS'-string\n",
    "    species = data.loc[i,'lipidspecies'].replace('IS ','')\n",
    "    regexp_class = re.compile(r'^([a-zA-Z23-]{2,10})')\n",
    "    re_match = regexp_class.match(species)\n",
    "    lipidclass_col.append(re_match.group())\n",
    "   \n",
    "lipidclass_col[0:10]"
   ]
  }
 ],
 "metadata": {
  "kernelspec": {
   "display_name": "Python 3",
   "language": "python",
   "name": "python3"
  },
  "language_info": {
   "codemirror_mode": {
    "name": "ipython",
    "version": 3
   },
   "file_extension": ".py",
   "mimetype": "text/x-python",
   "name": "python",
   "nbconvert_exporter": "python",
   "pygments_lexer": "ipython3",
   "version": "3.7.6"
  }
 },
 "nbformat": 4,
 "nbformat_minor": 4
}
